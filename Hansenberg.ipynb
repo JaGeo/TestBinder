{
 "cells": [
  {
   "cell_type": "code",
   "execution_count": 6,
   "metadata": {},
   "outputs": [
    {
     "data": {
      "application/vnd.jupyter.widget-view+json": {
       "model_id": "6f2da5c91b9a49a6a8e75a32fa427703",
       "version_major": 2,
       "version_minor": 0
      },
      "text/plain": [
       "A Jupyter Widget"
      ]
     },
     "metadata": {},
     "output_type": "display_data"
    },
    {
     "data": {
      "application/vnd.jupyter.widget-view+json": {
       "model_id": "27f75f69e45740f7947298293acd0489",
       "version_major": 2,
       "version_minor": 0
      },
      "text/plain": [
       "A Jupyter Widget"
      ]
     },
     "metadata": {},
     "output_type": "display_data"
    },
    {
     "data": {
      "application/vnd.jupyter.widget-view+json": {
       "model_id": "3f248423f5774e26a0243b4e7ccce3ce",
       "version_major": 2,
       "version_minor": 0
      },
      "text/plain": [
       "A Jupyter Widget"
      ]
     },
     "metadata": {},
     "output_type": "display_data"
    },
    {
     "ename": "AttributeError",
     "evalue": "'RadioButtons' object has no attribute 'on_check'",
     "output_type": "error",
     "traceback": [
      "\u001b[0;31m---------------------------------------------------------------------------\u001b[0m",
      "\u001b[0;31mAttributeError\u001b[0m                            Traceback (most recent call last)",
      "\u001b[0;32m<ipython-input-6-89aa17c5b418>\u001b[0m in \u001b[0;36m<module>\u001b[0;34m()\u001b[0m\n\u001b[1;32m     92\u001b[0m \u001b[0;34m\u001b[0m\u001b[0m\n\u001b[1;32m     93\u001b[0m \u001b[0;34m\u001b[0m\u001b[0m\n\u001b[0;32m---> 94\u001b[0;31m \u001b[0mget_interface\u001b[0m\u001b[0;34m(\u001b[0m\u001b[0mMaterialsIDvalue\u001b[0m\u001b[0;34m=\u001b[0m\u001b[0;34m'mp-1479'\u001b[0m\u001b[0;34m,\u001b[0m\u001b[0mAPIvalue\u001b[0m\u001b[0;34m=\u001b[0m\u001b[0;34m'7aLn6BRN2xqmFih8'\u001b[0m\u001b[0;34m,\u001b[0m\u001b[0mStrategyButtonvalue\u001b[0m\u001b[0;34m=\u001b[0m\u001b[0;34m'Plotte Bandstruktur'\u001b[0m\u001b[0;34m,\u001b[0m\u001b[0mPlotSlidervalue\u001b[0m\u001b[0;34m=\u001b[0m\u001b[0mStandardrange\u001b[0m\u001b[0;34m)\u001b[0m\u001b[0;34m\u001b[0m\u001b[0m\n\u001b[0m\u001b[1;32m     95\u001b[0m \u001b[0;34m\u001b[0m\u001b[0m\n\u001b[1;32m     96\u001b[0m \u001b[0;31m#wuerde gerne noch Material ausgeben\u001b[0m\u001b[0;34m\u001b[0m\u001b[0;34m\u001b[0m\u001b[0m\n",
      "\u001b[0;32m<ipython-input-6-89aa17c5b418>\u001b[0m in \u001b[0;36mget_interface\u001b[0;34m(MaterialsIDvalue, APIvalue, StrategyButtonvalue, PlotSlidervalue)\u001b[0m\n\u001b[1;32m     31\u001b[0m     \u001b[0mdisplay\u001b[0m\u001b[0;34m(\u001b[0m\u001b[0mStrategyButton\u001b[0m\u001b[0;34m)\u001b[0m\u001b[0;34m\u001b[0m\u001b[0m\n\u001b[1;32m     32\u001b[0m \u001b[0;34m\u001b[0m\u001b[0m\n\u001b[0;32m---> 33\u001b[0;31m     \u001b[0mStrategyButton\u001b[0m\u001b[0;34m.\u001b[0m\u001b[0mon_check\u001b[0m\u001b[0;34m(\u001b[0m\u001b[0mon_radio_clicked\u001b[0m\u001b[0;34m)\u001b[0m\u001b[0;34m\u001b[0m\u001b[0m\n\u001b[0m\u001b[1;32m     34\u001b[0m \u001b[0;34m\u001b[0m\u001b[0m\n\u001b[1;32m     35\u001b[0m     \u001b[0;32mif\u001b[0m \u001b[0mStrategyButton\u001b[0m\u001b[0;34m.\u001b[0m\u001b[0mvalue\u001b[0m\u001b[0;34m==\u001b[0m\u001b[0;34m'Plotte Bandstruktur'\u001b[0m\u001b[0;34m:\u001b[0m\u001b[0;34m\u001b[0m\u001b[0m\n",
      "\u001b[0;31mAttributeError\u001b[0m: 'RadioButtons' object has no attribute 'on_check'"
     ]
    }
   ],
   "source": [
    "from ipywidgets import widgets\n",
    "from IPython.display import display, clear_output\n",
    "from pymatgen.ext.matproj import MPRester\n",
    "\n",
    "Standardrange=[-5,5]\n",
    "\n",
    "def get_interface(MaterialsIDvalue,APIvalue,StrategyButtonvalue,PlotSlidervalue):\n",
    "    def on_button_clicked(b):\n",
    "        if PlotSlider is not None:\n",
    "            run(API,MaterialsID,StrategyButton,PlotSlider)\n",
    "        else:\n",
    "            run(API,MaterialsID,StrategyButton,None)\n",
    "            \n",
    "     \n",
    "    API=widgets.Text(value=APIvalue,description='API:')\n",
    "    display(API)\n",
    "    MaterialsID=widgets.Text(value=MaterialsIDvalue,description='Mat ID')\n",
    "    display(MaterialsID)\n",
    "    StrategyButton=widgets.RadioButtons(\n",
    "        options=['Plotte Bandstruktur', 'Bandluecke', 'Direkte Bandluecke','Leiter?'],\n",
    "        value=StrategyButtonvalue,\n",
    "        description='Optionen:',\n",
    "        disabled=False\n",
    "    )\n",
    "    display(StrategyButton)\n",
    "    \n",
    "\n",
    "    \n",
    "    if StrategyButton.value=='Plotte Bandstruktur':\n",
    "        PlotSlider=widgets.IntRangeSlider(\n",
    "            value=PlotSlidervalue,\n",
    "            min=-30,\n",
    "            max=30,\n",
    "            step=1,\n",
    "            description='Energie:',\n",
    "            disabled=False,\n",
    "            continuous_update=False,\n",
    "            orientation='horizontal',\n",
    "            readout=True,\n",
    "            readout_format='d',\n",
    "        )\n",
    "        display(PlotSlider)\n",
    "    else:\n",
    "        PlotSlider=None\n",
    "\n",
    "    # add button that updates everything\n",
    "    \n",
    "    \n",
    "    button = widgets.Button(description=\"Start\")\n",
    "    display(button)\n",
    "    button.on_click(on_button_clicked)  \n",
    "    \n",
    "    \n",
    "    \n",
    "def run(API,MaterialsID,StrategyButton,PlotSlider):\n",
    "    clear_output()\n",
    "    if PlotSlider is not None:\n",
    "        get_interface(MaterialsID.value,API.value,StrategyButton.value,PlotSlider.value)\n",
    "    else:\n",
    "        get_interface(MaterialsID.value,API.value,StrategyButton.value,Standardrange)\n",
    "    \n",
    "    a = MPRester(API.value)\n",
    "    \n",
    "    struct = a.get_structure_by_material_id(MaterialsID.value)\n",
    "    print('Verbindung: ' + struct.formula)\n",
    "    bs = a.get_bandstructure_by_material_id(MaterialsID.value)\n",
    "    if StrategyButton.value=='Leiter?':\n",
    "        if bs.is_metal()==True:\n",
    "            print(\"Die Verbindung ist ein Leiter\")\n",
    "        else:\n",
    "            print(\"Die Verbindung ist kein Leiter\")\n",
    "    elif StrategyButton.value=='Bandluecke':\n",
    "        bandgapdict=bs.get_band_gap()\n",
    "        print(\"Die Bandluecke betraegt: \"+str(bandgapdict['energy'])+' eV')\n",
    "  \n",
    "    elif StrategyButton.value=='Direkte Bandluecke':\n",
    "        print(\"Die direkte Bandluecke betraegt: \"+str(bs.get_direct_band_gap())+' eV')\n",
    "    elif StrategyButton.value=='Plotte Bandstruktur':\n",
    "        %matplotlib inline\n",
    "        from pymatgen.electronic_structure.plotter import BSPlotter\n",
    "        plotter = BSPlotter(bs)\n",
    "        if PlotSlider is not None:\n",
    "            plotter.get_plot(ylim=PlotSlider.value,vbm_cbm_marker=True).show()\n",
    "        else:\n",
    "            plotter.get_plot(ylim=Standardrange,vbm_cbm_marker=True).show()\n",
    "    \n",
    "    \n",
    "get_interface(MaterialsIDvalue='mp-1479',APIvalue='',StrategyButtonvalue='Plotte Bandstruktur',PlotSlidervalue=Standardrange)\n",
    "  \n",
    "#wuerde gerne noch Material ausgeben\n",
    "\n"
   ]
  },
  {
   "cell_type": "code",
   "execution_count": null,
   "metadata": {},
   "outputs": [],
   "source": []
  },
  {
   "cell_type": "code",
   "execution_count": null,
   "metadata": {},
   "outputs": [],
   "source": []
  },
  {
   "cell_type": "code",
   "execution_count": null,
   "metadata": {},
   "outputs": [],
   "source": []
  },
  {
   "cell_type": "code",
   "execution_count": null,
   "metadata": {},
   "outputs": [],
   "source": []
  },
  {
   "cell_type": "code",
   "execution_count": null,
   "metadata": {},
   "outputs": [],
   "source": []
  }
 ],
 "metadata": {
  "kernelspec": {
   "display_name": "Python 3",
   "language": "python",
   "name": "python3"
  },
  "language_info": {
   "codemirror_mode": {
    "name": "ipython",
    "version": 3
   },
   "file_extension": ".py",
   "mimetype": "text/x-python",
   "name": "python",
   "nbconvert_exporter": "python",
   "pygments_lexer": "ipython3",
   "version": "3.5.2"
  }
 },
 "nbformat": 4,
 "nbformat_minor": 2
}
