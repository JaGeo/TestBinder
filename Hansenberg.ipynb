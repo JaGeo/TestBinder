{
 "cells": [
  {
   "cell_type": "code",
   "execution_count": 5,
   "metadata": {},
   "outputs": [
    {
     "data": {
      "application/vnd.jupyter.widget-view+json": {
       "model_id": "e7b5aa5709c54da48e56007eb309f610",
       "version_major": 2,
       "version_minor": 0
      },
      "text/plain": [
       "A Jupyter Widget"
      ]
     },
     "metadata": {},
     "output_type": "display_data"
    },
    {
     "data": {
      "application/vnd.jupyter.widget-view+json": {
       "model_id": "5e3b7785fad14ae5a7d5cfbadf9ffb4e",
       "version_major": 2,
       "version_minor": 0
      },
      "text/plain": [
       "A Jupyter Widget"
      ]
     },
     "metadata": {},
     "output_type": "display_data"
    },
    {
     "name": "stdout",
     "output_type": "stream",
     "text": [
      "\n"
     ]
    },
    {
     "data": {
      "application/vnd.jupyter.widget-view+json": {
       "model_id": "0bc8a1b8589a4226bc489346fb2bd29e",
       "version_major": 2,
       "version_minor": 0
      },
      "text/plain": [
       "A Jupyter Widget"
      ]
     },
     "metadata": {},
     "output_type": "display_data"
    },
    {
     "data": {
      "application/vnd.jupyter.widget-view+json": {
       "model_id": "5527140cabca4495a32d066f23fd9410",
       "version_major": 2,
       "version_minor": 0
      },
      "text/plain": [
       "A Jupyter Widget"
      ]
     },
     "metadata": {},
     "output_type": "display_data"
    }
   ],
   "source": [
    "from ipywidgets import widgets\n",
    "from IPython.display import display\n",
    "from pymatgen.analysis.chemenv.coordination_environments.coordination_geometry_finder import LocalGeometryFinder\n",
    "import logging\n",
    "from pymatgen.ext.matproj import MPRester\n",
    "from pymatgen.analysis.chemenv.coordination_environments.chemenv_strategies import SimplestChemenvStrategy, MultiWeightsChemenvStrategy\n",
    "from pymatgen.analysis.chemenv.coordination_environments.structure_environments import LightStructureEnvironments\n",
    "#from pymatgen.vis.structure_chemview import quick_view\n",
    "\n",
    "\n",
    "API=widgets.Text(value='7aLn6BRN2xqmFih8',description='Materials Project API:')\n",
    "display(API)\n",
    "\n",
    "#SearchedElements=widgets.Text(value='Mn,O',description='Elements')\n",
    "#display(SearchedElements)\n",
    "\n",
    "#print('Materials ID')\n",
    "MaterialsID=widgets.Text(value='mp-1479',description='Materials ID')\n",
    "display(MaterialsID)\n",
    "\n",
    "\n",
    "\n",
    "print('')\n",
    "StrategyButton=widgets.RadioButtons(\n",
    "    options=['Plotte Bandstruktur', 'Bandluecke', 'Direkte Bandluecke','Metall'],\n",
    "    value='Plotte Bandstruktur',\n",
    "    description='Elektronenstruktur:',\n",
    "    disabled=False\n",
    ")\n",
    "display(StrategyButton)\n",
    "#strategyboxes = []\n",
    "#sb_container = widgets.HBox()\n",
    "#display(sb_container)\n",
    "#strategyboxes.append(widgets.Checkbox(description = 'SimplestChemenvStrategy', value=False, width=90))\n",
    "#strategyboxes.append(widgets.Checkbox(description = 'MultiWeightsChemenvStrategy', value=True, width=90))\n",
    "#sb_container.children=[i for i in strategyboxes]\n",
    "\n",
    "\n",
    "\n",
    "# add button that updates everything\n",
    "button = widgets.Button(description=\"Start\")\n",
    "display(button)\n",
    "\n",
    "\n",
    "\n",
    "def on_button_clicked(b):\n",
    "    run()\n",
    "    \n",
    "def run():\n",
    "    a = MPRester(API.value)\n",
    "    \n",
    "    struct = a.get_structure_by_material_id(MaterialsID.value)\n",
    "    bs = a.get_bandstructure_by_material_id(MaterialsID.value)\n",
    "    #'Plotte Bandstruktur', 'Bandluecke', 'Direkte Bandluecke','Metall'\n",
    "    if StrategyButton.value=='Metall':\n",
    "        if bs.is_metal()==True:\n",
    "            print(\"Die Verbindung ist ein Leiter\")\n",
    "        else:\n",
    "            print(\"Die Verbindung ist kein Leiter\")\n",
    "    elif StrategyButton.value=='Bandluecke':\n",
    "        bandgapdict=bs.get_band_gap()\n",
    "        print(\"Die Bandluecke betraegt: \"+str(bandgapdict['energy'])+' eV')\n",
    "    elif StrategyButton.value=='Direkte Bandluecke':\n",
    "        print(\"Die direkte Bandluecke betraegt: \"+str(bs.get_direct_band_gap())+' eV')\n",
    "    elif StrategyButton.value=='Plotte Bandstruktur':\n",
    "        %matplotlib inline\n",
    "        from pymatgen.electronic_structure.plotter import BSPlotter\n",
    "        plotter = BSPlotter(bs)\n",
    "        plotter.get_plot().show()\n",
    "    \n",
    "    \n",
    "    \n",
    "    \n",
    "button.on_click(on_button_clicked)    \n",
    "    \n",
    "\n"
   ]
  },
  {
   "cell_type": "code",
   "execution_count": null,
   "metadata": {},
   "outputs": [],
   "source": []
  },
  {
   "cell_type": "code",
   "execution_count": null,
   "metadata": {},
   "outputs": [],
   "source": []
  },
  {
   "cell_type": "code",
   "execution_count": null,
   "metadata": {},
   "outputs": [],
   "source": []
  },
  {
   "cell_type": "code",
   "execution_count": null,
   "metadata": {},
   "outputs": [],
   "source": []
  },
  {
   "cell_type": "code",
   "execution_count": null,
   "metadata": {},
   "outputs": [],
   "source": []
  }
 ],
 "metadata": {
  "kernelspec": {
   "display_name": "Python 3",
   "language": "python",
   "name": "python3"
  },
  "language_info": {
   "codemirror_mode": {
    "name": "ipython",
    "version": 3
   },
   "file_extension": ".py",
   "mimetype": "text/x-python",
   "name": "python",
   "nbconvert_exporter": "python",
   "pygments_lexer": "ipython3",
   "version": "3.5.2"
  }
 },
 "nbformat": 4,
 "nbformat_minor": 2
}
