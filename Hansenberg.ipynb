{
 "cells": [
  {
   "cell_type": "code",
   "execution_count": 1,
   "metadata": {},
   "outputs": [
    {
     "data": {
      "application/vnd.jupyter.widget-view+json": {
       "model_id": "bd24000d22f34de5835276a75dd6f691",
       "version_major": 2,
       "version_minor": 0
      },
      "text/plain": [
       "A Jupyter Widget"
      ]
     },
     "metadata": {},
     "output_type": "display_data"
    },
    {
     "data": {
      "application/vnd.jupyter.widget-view+json": {
       "model_id": "074a4645ca4740d9875890cc9f1cb50f",
       "version_major": 2,
       "version_minor": 0
      },
      "text/plain": [
       "A Jupyter Widget"
      ]
     },
     "metadata": {},
     "output_type": "display_data"
    },
    {
     "name": "stdout",
     "output_type": "stream",
     "text": [
      "\n"
     ]
    },
    {
     "data": {
      "application/vnd.jupyter.widget-view+json": {
       "model_id": "f071c2ec21794623978b58a15968a365",
       "version_major": 2,
       "version_minor": 0
      },
      "text/plain": [
       "A Jupyter Widget"
      ]
     },
     "metadata": {},
     "output_type": "display_data"
    },
    {
     "data": {
      "application/vnd.jupyter.widget-view+json": {
       "model_id": "f4825f6f73d2446380f623aeaffa0e3d",
       "version_major": 2,
       "version_minor": 0
      },
      "text/plain": [
       "A Jupyter Widget"
      ]
     },
     "metadata": {},
     "output_type": "display_data"
    },
    {
     "ename": "MPRestError",
     "evalue": "REST query returned with error status code 403. Content: b'{\"valid_response\": false, \"version\": {\"pymatgen\": \"2018.3.13\", \"db\": \"2.0.0\", \"rest\": \"2.0\"}, \"created_at\": \"2018-04-12T11:02:30.945949\", \"error\": \"API_KEY is not supplied.\"}'",
     "output_type": "error",
     "traceback": [
      "\u001b[0;31m---------------------------------------------------------------------------\u001b[0m",
      "\u001b[0;31mMPRestError\u001b[0m                               Traceback (most recent call last)",
      "\u001b[0;32m/mnt/d/Dokumente/Loewen/DONOTPUTONINTERNET/pymatgen/ext/matproj.py\u001b[0m in \u001b[0;36m_make_request\u001b[0;34m(self, sub_url, payload, method, mp_decode)\u001b[0m\n\u001b[1;32m    151\u001b[0m             raise MPRestError(\"REST query returned with error status code {}\"\n\u001b[0;32m--> 152\u001b[0;31m                               .format(response.status_code))\n\u001b[0m\u001b[1;32m    153\u001b[0m \u001b[0;34m\u001b[0m\u001b[0m\n",
      "\u001b[0;31mMPRestError\u001b[0m: REST query returned with error status code 403",
      "\nDuring handling of the above exception, another exception occurred:\n",
      "\u001b[0;31mMPRestError\u001b[0m                               Traceback (most recent call last)",
      "\u001b[0;32m<ipython-input-1-a26ff365fc46>\u001b[0m in \u001b[0;36mon_button_clicked\u001b[0;34m(b)\u001b[0m\n\u001b[1;32m     31\u001b[0m \u001b[0;34m\u001b[0m\u001b[0m\n\u001b[1;32m     32\u001b[0m \u001b[0;32mdef\u001b[0m \u001b[0mon_button_clicked\u001b[0m\u001b[0;34m(\u001b[0m\u001b[0mb\u001b[0m\u001b[0;34m)\u001b[0m\u001b[0;34m:\u001b[0m\u001b[0;34m\u001b[0m\u001b[0m\n\u001b[0;32m---> 33\u001b[0;31m     \u001b[0mrun\u001b[0m\u001b[0;34m(\u001b[0m\u001b[0;34m)\u001b[0m\u001b[0;34m\u001b[0m\u001b[0m\n\u001b[0m\u001b[1;32m     34\u001b[0m \u001b[0;34m\u001b[0m\u001b[0m\n\u001b[1;32m     35\u001b[0m \u001b[0;32mdef\u001b[0m \u001b[0mrun\u001b[0m\u001b[0;34m(\u001b[0m\u001b[0;34m)\u001b[0m\u001b[0;34m:\u001b[0m\u001b[0;34m\u001b[0m\u001b[0m\n",
      "\u001b[0;32m<ipython-input-1-a26ff365fc46>\u001b[0m in \u001b[0;36mrun\u001b[0;34m()\u001b[0m\n\u001b[1;32m     36\u001b[0m     \u001b[0ma\u001b[0m \u001b[0;34m=\u001b[0m \u001b[0mMPRester\u001b[0m\u001b[0;34m(\u001b[0m\u001b[0mAPI\u001b[0m\u001b[0;34m.\u001b[0m\u001b[0mvalue\u001b[0m\u001b[0;34m)\u001b[0m\u001b[0;34m\u001b[0m\u001b[0m\n\u001b[1;32m     37\u001b[0m \u001b[0;34m\u001b[0m\u001b[0m\n\u001b[0;32m---> 38\u001b[0;31m     \u001b[0mstruct\u001b[0m \u001b[0;34m=\u001b[0m \u001b[0ma\u001b[0m\u001b[0;34m.\u001b[0m\u001b[0mget_structure_by_material_id\u001b[0m\u001b[0;34m(\u001b[0m\u001b[0mMaterialsID\u001b[0m\u001b[0;34m.\u001b[0m\u001b[0mvalue\u001b[0m\u001b[0;34m)\u001b[0m\u001b[0;34m\u001b[0m\u001b[0m\n\u001b[0m\u001b[1;32m     39\u001b[0m     \u001b[0mbs\u001b[0m \u001b[0;34m=\u001b[0m \u001b[0ma\u001b[0m\u001b[0;34m.\u001b[0m\u001b[0mget_bandstructure_by_material_id\u001b[0m\u001b[0;34m(\u001b[0m\u001b[0mMaterialsID\u001b[0m\u001b[0;34m.\u001b[0m\u001b[0mvalue\u001b[0m\u001b[0;34m)\u001b[0m\u001b[0;34m\u001b[0m\u001b[0m\n\u001b[1;32m     40\u001b[0m     \u001b[0;32mif\u001b[0m \u001b[0mStrategyButton\u001b[0m\u001b[0;34m.\u001b[0m\u001b[0mvalue\u001b[0m\u001b[0;34m==\u001b[0m\u001b[0;34m'Metall'\u001b[0m\u001b[0;34m:\u001b[0m\u001b[0;34m\u001b[0m\u001b[0m\n",
      "\u001b[0;32m/mnt/d/Dokumente/Loewen/DONOTPUTONINTERNET/pymatgen/ext/matproj.py\u001b[0m in \u001b[0;36mget_structure_by_material_id\u001b[0;34m(self, material_id, final, conventional_unit_cell)\u001b[0m\n\u001b[1;32m    440\u001b[0m         \"\"\"\n\u001b[1;32m    441\u001b[0m         \u001b[0mprop\u001b[0m \u001b[0;34m=\u001b[0m \u001b[0;34m\"final_structure\"\u001b[0m \u001b[0;32mif\u001b[0m \u001b[0mfinal\u001b[0m \u001b[0;32melse\u001b[0m \u001b[0;34m\"initial_structure\"\u001b[0m\u001b[0;34m\u001b[0m\u001b[0m\n\u001b[0;32m--> 442\u001b[0;31m         \u001b[0mdata\u001b[0m \u001b[0;34m=\u001b[0m \u001b[0mself\u001b[0m\u001b[0;34m.\u001b[0m\u001b[0mget_data\u001b[0m\u001b[0;34m(\u001b[0m\u001b[0mmaterial_id\u001b[0m\u001b[0;34m,\u001b[0m \u001b[0mprop\u001b[0m\u001b[0;34m=\u001b[0m\u001b[0mprop\u001b[0m\u001b[0;34m)\u001b[0m\u001b[0;34m\u001b[0m\u001b[0m\n\u001b[0m\u001b[1;32m    443\u001b[0m         \u001b[0;32mif\u001b[0m \u001b[0mconventional_unit_cell\u001b[0m\u001b[0;34m:\u001b[0m\u001b[0;34m\u001b[0m\u001b[0m\n\u001b[1;32m    444\u001b[0m             \u001b[0mdata\u001b[0m\u001b[0;34m[\u001b[0m\u001b[0;36m0\u001b[0m\u001b[0;34m]\u001b[0m\u001b[0;34m[\u001b[0m\u001b[0mprop\u001b[0m\u001b[0;34m]\u001b[0m \u001b[0;34m=\u001b[0m \u001b[0mSpacegroupAnalyzer\u001b[0m\u001b[0;34m(\u001b[0m\u001b[0mdata\u001b[0m\u001b[0;34m[\u001b[0m\u001b[0;36m0\u001b[0m\u001b[0;34m]\u001b[0m\u001b[0;34m[\u001b[0m\u001b[0mprop\u001b[0m\u001b[0;34m]\u001b[0m\u001b[0;34m)\u001b[0m\u001b[0;34m.\u001b[0m\u001b[0;31m\\\u001b[0m\u001b[0;34m\u001b[0m\u001b[0m\n",
      "\u001b[0;32m/mnt/d/Dokumente/Loewen/DONOTPUTONINTERNET/pymatgen/ext/matproj.py\u001b[0m in \u001b[0;36mget_data\u001b[0;34m(self, chemsys_formula_id, data_type, prop)\u001b[0m\n\u001b[1;32m    204\u001b[0m         \u001b[0;32mif\u001b[0m \u001b[0mprop\u001b[0m\u001b[0;34m:\u001b[0m\u001b[0;34m\u001b[0m\u001b[0m\n\u001b[1;32m    205\u001b[0m             \u001b[0msub_url\u001b[0m \u001b[0;34m+=\u001b[0m \u001b[0;34m\"/\"\u001b[0m \u001b[0;34m+\u001b[0m \u001b[0mprop\u001b[0m\u001b[0;34m\u001b[0m\u001b[0m\n\u001b[0;32m--> 206\u001b[0;31m         \u001b[0;32mreturn\u001b[0m \u001b[0mself\u001b[0m\u001b[0;34m.\u001b[0m\u001b[0m_make_request\u001b[0m\u001b[0;34m(\u001b[0m\u001b[0msub_url\u001b[0m\u001b[0;34m)\u001b[0m\u001b[0;34m\u001b[0m\u001b[0m\n\u001b[0m\u001b[1;32m    207\u001b[0m \u001b[0;34m\u001b[0m\u001b[0m\n\u001b[1;32m    208\u001b[0m     \u001b[0;32mdef\u001b[0m \u001b[0mget_task_data\u001b[0m\u001b[0;34m(\u001b[0m\u001b[0mself\u001b[0m\u001b[0;34m,\u001b[0m \u001b[0mchemsys_formula_id\u001b[0m\u001b[0;34m,\u001b[0m \u001b[0mprop\u001b[0m\u001b[0;34m=\u001b[0m\u001b[0;34m\"\"\u001b[0m\u001b[0;34m)\u001b[0m\u001b[0;34m:\u001b[0m\u001b[0;34m\u001b[0m\u001b[0m\n",
      "\u001b[0;32m/mnt/d/Dokumente/Loewen/DONOTPUTONINTERNET/pymatgen/ext/matproj.py\u001b[0m in \u001b[0;36m_make_request\u001b[0;34m(self, sub_url, payload, method, mp_decode)\u001b[0m\n\u001b[1;32m    155\u001b[0m             \u001b[0mmsg\u001b[0m \u001b[0;34m=\u001b[0m \u001b[0;34m\"{}. Content: {}\"\u001b[0m\u001b[0;34m.\u001b[0m\u001b[0mformat\u001b[0m\u001b[0;34m(\u001b[0m\u001b[0mstr\u001b[0m\u001b[0;34m(\u001b[0m\u001b[0mex\u001b[0m\u001b[0;34m)\u001b[0m\u001b[0;34m,\u001b[0m \u001b[0mresponse\u001b[0m\u001b[0;34m.\u001b[0m\u001b[0mcontent\u001b[0m\u001b[0;34m)\u001b[0m\u001b[0;31m\\\u001b[0m\u001b[0;34m\u001b[0m\u001b[0m\n\u001b[1;32m    156\u001b[0m                 \u001b[0;32mif\u001b[0m \u001b[0mhasattr\u001b[0m\u001b[0;34m(\u001b[0m\u001b[0mresponse\u001b[0m\u001b[0;34m,\u001b[0m \u001b[0;34m\"content\"\u001b[0m\u001b[0;34m)\u001b[0m \u001b[0;32melse\u001b[0m \u001b[0mstr\u001b[0m\u001b[0;34m(\u001b[0m\u001b[0mex\u001b[0m\u001b[0;34m)\u001b[0m\u001b[0;34m\u001b[0m\u001b[0m\n\u001b[0;32m--> 157\u001b[0;31m             \u001b[0;32mraise\u001b[0m \u001b[0mMPRestError\u001b[0m\u001b[0;34m(\u001b[0m\u001b[0mmsg\u001b[0m\u001b[0;34m)\u001b[0m\u001b[0;34m\u001b[0m\u001b[0m\n\u001b[0m\u001b[1;32m    158\u001b[0m \u001b[0;34m\u001b[0m\u001b[0m\n\u001b[1;32m    159\u001b[0m     \u001b[0;32mdef\u001b[0m \u001b[0mget_materials_id_from_task_id\u001b[0m\u001b[0;34m(\u001b[0m\u001b[0mself\u001b[0m\u001b[0;34m,\u001b[0m \u001b[0mtask_id\u001b[0m\u001b[0;34m)\u001b[0m\u001b[0;34m:\u001b[0m\u001b[0;34m\u001b[0m\u001b[0m\n",
      "\u001b[0;31mMPRestError\u001b[0m: REST query returned with error status code 403. Content: b'{\"valid_response\": false, \"version\": {\"pymatgen\": \"2018.3.13\", \"db\": \"2.0.0\", \"rest\": \"2.0\"}, \"created_at\": \"2018-04-12T11:02:30.945949\", \"error\": \"API_KEY is not supplied.\"}'"
     ]
    }
   ],
   "source": [
    "from ipywidgets import widgets\n",
    "from IPython.display import display\n",
    "from pymatgen.ext.matproj import MPRester\n",
    "\n",
    "\n",
    "\n",
    "API=widgets.Text(value='',description='Materials Project API:')\n",
    "display(API)\n",
    "\n",
    "\n",
    "MaterialsID=widgets.Text(value='mp-1479',description='Materials ID')\n",
    "display(MaterialsID)\n",
    "\n",
    "\n",
    "\n",
    "print('')\n",
    "StrategyButton=widgets.RadioButtons(\n",
    "    options=['Plotte Bandstruktur', 'Bandluecke', 'Direkte Bandluecke','Metall'],\n",
    "    value='Plotte Bandstruktur',\n",
    "    description='Elektronenstruktur:',\n",
    "    disabled=False\n",
    ")\n",
    "display(StrategyButton)\n",
    "\n",
    "\n",
    "# add button that updates everything\n",
    "button = widgets.Button(description=\"Start\")\n",
    "display(button)\n",
    "\n",
    "\n",
    "\n",
    "def on_button_clicked(b):\n",
    "    run()\n",
    "    \n",
    "def run():\n",
    "    a = MPRester(API.value)\n",
    "    \n",
    "    struct = a.get_structure_by_material_id(MaterialsID.value)\n",
    "    bs = a.get_bandstructure_by_material_id(MaterialsID.value)\n",
    "    if StrategyButton.value=='Metall':\n",
    "        if bs.is_metal()==True:\n",
    "            print(\"Die Verbindung ist ein Leiter\")\n",
    "        else:\n",
    "            print(\"Die Verbindung ist kein Leiter\")\n",
    "    elif StrategyButton.value=='Bandluecke':\n",
    "        bandgapdict=bs.get_band_gap()\n",
    "        print(\"Die Bandluecke betraegt: \"+str(bandgapdict['energy'])+' eV')\n",
    "    elif StrategyButton.value=='Direkte Bandluecke':\n",
    "        print(\"Die direkte Bandluecke betraegt: \"+str(bs.get_direct_band_gap())+' eV')\n",
    "    elif StrategyButton.value=='Plotte Bandstruktur':\n",
    "        %matplotlib inline\n",
    "        from pymatgen.electronic_structure.plotter import BSPlotter\n",
    "        plotter = BSPlotter(bs)\n",
    "        plotter.get_plot().show()\n",
    "    \n",
    "    \n",
    "    \n",
    "    \n",
    "button.on_click(on_button_clicked)    \n",
    "    \n",
    "\n"
   ]
  },
  {
   "cell_type": "code",
   "execution_count": null,
   "metadata": {},
   "outputs": [],
   "source": []
  },
  {
   "cell_type": "code",
   "execution_count": null,
   "metadata": {},
   "outputs": [],
   "source": []
  },
  {
   "cell_type": "code",
   "execution_count": null,
   "metadata": {},
   "outputs": [],
   "source": []
  },
  {
   "cell_type": "code",
   "execution_count": null,
   "metadata": {},
   "outputs": [],
   "source": []
  },
  {
   "cell_type": "code",
   "execution_count": null,
   "metadata": {},
   "outputs": [],
   "source": []
  }
 ],
 "metadata": {
  "kernelspec": {
   "display_name": "Python 3",
   "language": "python",
   "name": "python3"
  },
  "language_info": {
   "codemirror_mode": {
    "name": "ipython",
    "version": 3
   },
   "file_extension": ".py",
   "mimetype": "text/x-python",
   "name": "python",
   "nbconvert_exporter": "python",
   "pygments_lexer": "ipython3",
   "version": "3.5.2"
  }
 },
 "nbformat": 4,
 "nbformat_minor": 2
}
