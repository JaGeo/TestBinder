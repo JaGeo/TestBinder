{
 "cells": [
  {
   "cell_type": "code",
   "execution_count": 1,
   "metadata": {},
   "outputs": [
    {
     "data": {
      "application/vnd.jupyter.widget-view+json": {
       "model_id": "6473e160ee494f02b7445808c0e9e9aa",
       "version_major": 2,
       "version_minor": 0
      },
      "text/plain": [
       "A Jupyter Widget"
      ]
     },
     "metadata": {},
     "output_type": "display_data"
    },
    {
     "data": {
      "application/vnd.jupyter.widget-view+json": {
       "model_id": "4d115ceb9e454a8897d00d2e8c4baa8d",
       "version_major": 2,
       "version_minor": 0
      },
      "text/plain": [
       "A Jupyter Widget"
      ]
     },
     "metadata": {},
     "output_type": "display_data"
    },
    {
     "data": {
      "application/vnd.jupyter.widget-view+json": {
       "model_id": "c3c51756f0d544f5b9312898b71c0446",
       "version_major": 2,
       "version_minor": 0
      },
      "text/plain": [
       "A Jupyter Widget"
      ]
     },
     "metadata": {},
     "output_type": "display_data"
    },
    {
     "data": {
      "application/vnd.jupyter.widget-view+json": {
       "model_id": "2656904b177743c8af6f3296a299f59f",
       "version_major": 2,
       "version_minor": 0
      },
      "text/plain": [
       "A Jupyter Widget"
      ]
     },
     "metadata": {},
     "output_type": "display_data"
    },
    {
     "name": "stdout",
     "output_type": "stream",
     "text": [
      "Verbindung: Na1\n",
      "Die Bandluecke betraegt: 0.0 eV\n"
     ]
    }
   ],
   "source": [
    "from ipywidgets import widgets\n",
    "from IPython.display import display, clear_output\n",
    "from pymatgen.ext.matproj import MPRester\n",
    "\n",
    "API=[]\n",
    "MaterialsID=[]\n",
    "StrategyButton=[]\n",
    "\n",
    "def get_interface(MaterialsIDvalue,APIvalue,StrategyButtonvalue,PlotSlidervalue):\n",
    "    def on_button_clicked(b):\n",
    "        run(API,MaterialsID,StrategyButton,PlotSlider)\n",
    "    \n",
    "    API=widgets.Text(value=APIvalue,description='Materials Project API:')\n",
    "    display(API)\n",
    "    MaterialsID=widgets.Text(value=MaterialsIDvalue,description='Materials ID')\n",
    "    display(MaterialsID)\n",
    "    StrategyButton=widgets.RadioButtons(\n",
    "        options=['Plotte Bandstruktur', 'Bandluecke', 'Direkte Bandluecke','Leiter?'],\n",
    "        value=StrategyButtonvalue,\n",
    "        description='Elektronenstruktur:',\n",
    "        disabled=False\n",
    "    )\n",
    "    display(StrategyButton)\n",
    "    \n",
    "    if StrategyButton.value=='Plotte Bandstruktur':\n",
    "        PlotSlider=widgets.IntRangeSlider(\n",
    "            value=PlotSlidervalue,\n",
    "            min=-30,\n",
    "            max=30,\n",
    "            step=1,\n",
    "            description='Energieachse:',\n",
    "            disabled=False,\n",
    "            continuous_update=False,\n",
    "            orientation='horizontal',\n",
    "            readout=True,\n",
    "            readout_format='d',\n",
    "        )\n",
    "        display(PlotSlider)\n",
    "    else:\n",
    "        PlotSlider=None\n",
    "\n",
    "    # add button that updates everything\n",
    "    button = widgets.Button(description=\"Start\")\n",
    "    display(button)\n",
    "    button.on_click(on_button_clicked)  \n",
    "    \n",
    "   \n",
    "    \n",
    "def run(API,MaterialsID,StrategyButton,PlotSlider):\n",
    "    clear_output()\n",
    "    if PlotSlider is not None:\n",
    "        get_interface(MaterialsID.value,API.value,StrategyButton.value,PlotSlider.value)\n",
    "    else:\n",
    "        get_interface(MaterialsID.value,API.value,StrategyButton.value,[-5,5])\n",
    "    \n",
    "    a = MPRester(API.value)\n",
    "    \n",
    "    struct = a.get_structure_by_material_id(MaterialsID.value)\n",
    "    print('Verbindung: ' + struct.formula)\n",
    "    bs = a.get_bandstructure_by_material_id(MaterialsID.value)\n",
    "    if StrategyButton.value=='Leiter?':\n",
    "        if bs.is_metal()==True:\n",
    "            print(\"Die Verbindung ist ein Leiter\")\n",
    "        else:\n",
    "            print(\"Die Verbindung ist kein Leiter\")\n",
    "    elif StrategyButton.value=='Bandluecke':\n",
    "        bandgapdict=bs.get_band_gap()\n",
    "        print(\"Die Bandluecke betraegt: \"+str(bandgapdict['energy'])+' eV')\n",
    "  \n",
    "    elif StrategyButton.value=='Direkte Bandluecke':\n",
    "        print(\"Die direkte Bandluecke betraegt: \"+str(bs.get_direct_band_gap())+' eV')\n",
    "    elif StrategyButton.value=='Plotte Bandstruktur':\n",
    "        %matplotlib inline\n",
    "        from pymatgen.electronic_structure.plotter import BSPlotter\n",
    "        plotter = BSPlotter(bs)\n",
    "        plotter.get_plot(ylim=PlotSlider.value,vbm_cbm_marker=True).show()\n",
    "    \n",
    "    \n",
    "    \n",
    "get_interface(MaterialsIDvalue='mp-1479',APIvalue='7aLn6BRN2xqmFih8',StrategyButtonvalue='Plotte Bandstruktur',PlotSlidervalue=[-5,5])\n",
    "  \n",
    "#wuerde gerne noch Material ausgeben\n",
    "\n"
   ]
  },
  {
   "cell_type": "code",
   "execution_count": null,
   "metadata": {},
   "outputs": [],
   "source": []
  },
  {
   "cell_type": "code",
   "execution_count": null,
   "metadata": {},
   "outputs": [],
   "source": []
  },
  {
   "cell_type": "code",
   "execution_count": null,
   "metadata": {},
   "outputs": [],
   "source": []
  },
  {
   "cell_type": "code",
   "execution_count": null,
   "metadata": {},
   "outputs": [],
   "source": []
  },
  {
   "cell_type": "code",
   "execution_count": null,
   "metadata": {},
   "outputs": [],
   "source": []
  }
 ],
 "metadata": {
  "kernelspec": {
   "display_name": "Python 3",
   "language": "python",
   "name": "python3"
  },
  "language_info": {
   "codemirror_mode": {
    "name": "ipython",
    "version": 3
   },
   "file_extension": ".py",
   "mimetype": "text/x-python",
   "name": "python",
   "nbconvert_exporter": "python",
   "pygments_lexer": "ipython3",
   "version": "3.5.2"
  }
 },
 "nbformat": 4,
 "nbformat_minor": 2
}
